{
 "cells": [
  {
   "cell_type": "code",
   "execution_count": 14,
   "id": "23435d74-5759-4a84-ab94-e09c48eb9175",
   "metadata": {},
   "outputs": [],
   "source": [
    "from langchain_community.document_loaders import WebBaseLoader\n",
    "from langchain_core.output_parsers import StrOutputParser\n",
    "from langchain_core.prompts import ChatPromptTemplate\n",
    "from langchain_openai import ChatOpenAI, OpenAIEmbeddings\n",
    "\n",
    "from langchain_community.vectorstores import FAISS\n",
    "from langchain_text_splitters import RecursiveCharacterTextSplitter\n",
    "\n",
    "from langchain.chains.combine_documents import create_stuff_documents_chain\n",
    "from langchain.chains import create_retrieval_chain\n",
    "\n",
    "from langchain_community.document_loaders import TextLoader\n",
    "from langchain_text_splitters import CharacterTextSplitter\n"
   ]
  },
  {
   "cell_type": "code",
   "execution_count": 3,
   "id": "a196d879-1162-4d3b-becc-dd49e563eca6",
   "metadata": {},
   "outputs": [],
   "source": [
    "from pathlib import Path\n",
    "p = Path('../data')"
   ]
  },
  {
   "cell_type": "code",
   "execution_count": 4,
   "id": "5b35e658-0971-4568-92cd-251bef8f7b7e",
   "metadata": {},
   "outputs": [],
   "source": [
    "data_files = list(p.glob('**/*.txt'))"
   ]
  },
  {
   "cell_type": "code",
   "execution_count": 5,
   "id": "7e8a17b5-58f4-4dd6-b4c9-56040ceb0eb7",
   "metadata": {},
   "outputs": [
    {
     "data": {
      "text/plain": [
       "[PosixPath('../data/background.txt'),\n",
       " PosixPath('../data/noble_prize_intro.txt'),\n",
       " PosixPath('../data/nomination.txt'),\n",
       " PosixPath('../data/prizes.txt')]"
      ]
     },
     "execution_count": 5,
     "metadata": {},
     "output_type": "execute_result"
    }
   ],
   "source": [
    "data_files"
   ]
  },
  {
   "cell_type": "code",
   "execution_count": 25,
   "id": "5d86a8fe-0f83-45e2-a714-88b7a460e3bd",
   "metadata": {},
   "outputs": [],
   "source": [
    "documents = []\n",
    "for file in data_files:\n",
    "    loader = TextLoader(file)\n",
    "    doc = loader.load()\n",
    "    documents.append(doc[0])\n",
    "        "
   ]
  },
  {
   "cell_type": "code",
   "execution_count": 31,
   "id": "1e8e7947-2ac8-4d0f-899d-405ea14d4822",
   "metadata": {},
   "outputs": [
    {
     "name": "stdout",
     "output_type": "stream",
     "text": [
      "Alfred Nobel, in his last will and testament, stated that his wealth should be used to create a series of prizes for those who confer the \"greatest benefit on mankind\" in the fields of physics, chemistry, peace, physiology or medicine, and literature.[3] Though Nobel wrote several wills during his lifetime, the last one was written a year before he died and was signed at the Swedish-Norwegian Club in Paris on 27 November 1895.[4][5] Nobel bequeathed 94% of his total assets, 31 million Swedish kronor ($2.9 million USD, or €2.7 million in 2023), to establish and endow the five Nobel Prizes.[6] Owing to the level of skepticism surrounding the will, it was not until 26 April 1897 that it was approved by the Storting (Norwegian Parliament).[7][8] The executors of his will were Ragnar Sohlman and Rudolf Lilljequist, who formed the Nobel Foundation to take care of Nobel's fortune and organise the prizes.\n",
      "The members of the Norwegian Nobel Committee who were to award the Peace Prize were appointed shortly after the will was approved. The other prize-awarding organisations followed: the Karolinska Institutet on 7 June, the Swedish Academy on 9 June, and the Royal Swedish Academy of Sciences on 11 June.[9][10] The Nobel Foundation then established guidelines for awarding the prizes. In 1900, the Nobel Foundation's newly created statutes were promulgated by King Oscar II.[8][11] According to Nobel's will, The Royal Swedish Academy of Sciences would award the Prize in Physics.\n",
      "\n"
     ]
    }
   ],
   "source": [
    "print(documents[0].page_content)"
   ]
  },
  {
   "cell_type": "code",
   "execution_count": 26,
   "id": "541ec2b2-4ee3-4899-b41e-28fdcace8c0c",
   "metadata": {},
   "outputs": [],
   "source": [
    "llm = ChatOpenAI()"
   ]
  },
  {
   "cell_type": "code",
   "execution_count": 27,
   "id": "ab18d688-f947-4576-8077-48e11a8cfae1",
   "metadata": {},
   "outputs": [],
   "source": [
    "embeddings = OpenAIEmbeddings()"
   ]
  },
  {
   "cell_type": "code",
   "execution_count": 32,
   "id": "b17fa6e6-4dda-41a4-a2c4-85e5155a606c",
   "metadata": {},
   "outputs": [],
   "source": [
    "vector = FAISS.from_documents(documents, embeddings)"
   ]
  },
  {
   "cell_type": "code",
   "execution_count": 33,
   "id": "8203eaad-8f68-4744-bdad-b78d4a0b8678",
   "metadata": {},
   "outputs": [],
   "source": [
    "prompt = ChatPromptTemplate.from_template(\n",
    "    \"\"\"Answer the following question based only on the provided context:\n",
    "\n",
    "<context>\n",
    "{context}\n",
    "</context>\n",
    "\n",
    "Question: {input}\"\"\"\n",
    ")"
   ]
  },
  {
   "cell_type": "code",
   "execution_count": 34,
   "id": "4709246c-6e84-4dd0-84a5-2b93a2afc83e",
   "metadata": {},
   "outputs": [],
   "source": [
    "document_chain = create_stuff_documents_chain(llm, prompt)\n",
    "\n",
    "\n",
    "retriever = vector.as_retriever()\n",
    "retrieval_chain = create_retrieval_chain(retriever, document_chain)"
   ]
  },
  {
   "cell_type": "code",
   "execution_count": 36,
   "id": "fc517c7d-2af2-405b-848c-1f3b0c86610a",
   "metadata": {},
   "outputs": [
    {
     "name": "stdout",
     "output_type": "stream",
     "text": [
      "The Nobel Prize is awarded annually in a formal ceremony held on December 10th, the anniversary of Alfred Nobel's death.\n"
     ]
    }
   ],
   "source": [
    "response = retrieval_chain.invoke({\"input\": \"When is nobel prize awarded\"})\n",
    "print(response[\"answer\"])\n"
   ]
  },
  {
   "cell_type": "code",
   "execution_count": null,
   "id": "d4b2d512-ba8e-407d-89c5-49a13477fdfa",
   "metadata": {},
   "outputs": [],
   "source": []
  }
 ],
 "metadata": {
  "kernelspec": {
   "display_name": "Python 3 (ipykernel)",
   "language": "python",
   "name": "python3"
  },
  "language_info": {
   "codemirror_mode": {
    "name": "ipython",
    "version": 3
   },
   "file_extension": ".py",
   "mimetype": "text/x-python",
   "name": "python",
   "nbconvert_exporter": "python",
   "pygments_lexer": "ipython3",
   "version": "3.10.0"
  }
 },
 "nbformat": 4,
 "nbformat_minor": 5
}
